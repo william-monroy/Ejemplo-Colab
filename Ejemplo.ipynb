{
  "nbformat": 4,
  "nbformat_minor": 0,
  "metadata": {
    "colab": {
      "name": "Ejemplo.ipynb",
      "provenance": [],
      "authorship_tag": "ABX9TyPbRxuwODZiVkVyRrAZGr6v",
      "include_colab_link": true
    },
    "kernelspec": {
      "name": "python3",
      "display_name": "Python 3"
    },
    "language_info": {
      "name": "python"
    }
  },
  "cells": [
    {
      "cell_type": "markdown",
      "metadata": {
        "id": "view-in-github",
        "colab_type": "text"
      },
      "source": [
        "<a href=\"https://colab.research.google.com/github/william-monroy/Ejemplo-Colab/blob/master/Ejemplo.ipynb\" target=\"_parent\"><img src=\"https://colab.research.google.com/assets/colab-badge.svg\" alt=\"Open In Colab\"/></a>"
      ]
    },
    {
      "cell_type": "markdown",
      "metadata": {
        "id": "8nQ-LouF2h1Y"
      },
      "source": [
        "**Actividad Evaluable: Mapas de calor y boxplots**\n",
        "\n",
        "*Equipo 4 - Integrantes:*\n",
        "\n",
        "*William Frank Monroy Mamani - A00829796*\n",
        "\n",
        "*José Moisés López Alanís - A01284506*\n",
        "\n",
        "*Sergio Eduardo Chavez Villegas - A01284297*\n",
        "\n",
        "*Ezequiel Lozano Guerrero - A01734172*\n",
        "\n",
        "*Jose Manuel Caceres Esponda - A00831382*"
      ]
    },
    {
      "cell_type": "code",
      "metadata": {
        "id": "SouXy4uY2fvG"
      },
      "source": [
        ""
      ],
      "execution_count": null,
      "outputs": []
    }
  ]
}